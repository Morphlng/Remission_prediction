{
 "cells": [
  {
   "cell_type": "markdown",
   "metadata": {},
   "source": [
    "### Prepare Model"
   ]
  },
  {
   "cell_type": "code",
   "execution_count": 1,
   "metadata": {},
   "outputs": [
    {
     "name": "stderr",
     "output_type": "stream",
     "text": [
      "Some weights of the model checkpoint at hfl/chinese-roberta-wwm-ext were not used when initializing BertModel: ['cls.predictions.transform.LayerNorm.bias', 'cls.predictions.transform.LayerNorm.weight', 'cls.seq_relationship.weight', 'cls.predictions.transform.dense.weight', 'cls.predictions.decoder.weight', 'cls.predictions.transform.dense.bias', 'cls.predictions.bias', 'cls.seq_relationship.bias']\n",
      "- This IS expected if you are initializing BertModel from the checkpoint of a model trained on another task or with another architecture (e.g. initializing a BertForSequenceClassification model from a BertForPreTraining model).\n",
      "- This IS NOT expected if you are initializing BertModel from the checkpoint of a model that you expect to be exactly identical (initializing a BertForSequenceClassification model from a BertForSequenceClassification model).\n"
     ]
    }
   ],
   "source": [
    "# pip install transformers bert-extractive-summarizer\n",
    "# summarizer, load Chinese model\n",
    "from summarizer import Summarizer\n",
    "from summarizer.summary_processor import SentenceHandler\n",
    "from spacy.lang.zh import Chinese\n",
    "from transformers import AutoModel, AutoTokenizer, AutoConfig\n",
    "\n",
    "# Load model, model config and tokenizer via Transformers\n",
    "modelName = \"hfl/chinese-roberta-wwm-ext\"\n",
    "custom_config = AutoConfig.from_pretrained(modelName)\n",
    "custom_config.output_hidden_states=True\n",
    "custom_tokenizer = AutoTokenizer.from_pretrained(modelName)\n",
    "custom_model = AutoModel.from_pretrained(modelName, config=custom_config)\n",
    "\n",
    "model = Summarizer(\n",
    "    custom_model=custom_model, \n",
    "    custom_tokenizer=custom_tokenizer,\n",
    "    sentence_handler = SentenceHandler(language=Chinese)\n",
    "    )"
   ]
  },
  {
   "cell_type": "markdown",
   "metadata": {},
   "source": [
    "### Prepare Data"
   ]
  },
  {
   "cell_type": "code",
   "execution_count": 2,
   "metadata": {},
   "outputs": [
    {
     "data": {
      "text/plain": [
       "'罪犯吴智信，男，1990年xx月xx日出生，汉族，小学文化，农民，原户籍所在地广西陆川县平乐镇六凤村18队32号，非累犯，现在广西贵港监狱服刑，以被告人吴智信犯抢劫、盗窃罪，判处有期徒刑二十年，剥夺政治权利四年，并处罚金人民币210000元；该犯不服，提出上诉，经玉林市中级人民法院于2013年xx月xx日作出（2013）玉中少刑—终字第20号刑事判决，判处有期徒刑十五年，剥夺政治权利一年，并处罚金人民币190000元，刑期自2011年xx月xx日起至2026年xx月xx日止。2013年xx月xx日送广西区贵港监狱服刑。服刑期间刑期无变动。执行机关于2015年xx月xx日提出减刑建议书报送本院审理。本院立案后，依法组成合议庭进行审理，现已审理终结。 执行机关认为，罪犯吴智信在服刑期间，能遵守监规纪律，确有悔改表现，建议对该犯减刑一年，并提供了罪犯减刑审核表、计分考核手册，奖励审批表等证据证实。 贵港市人民检察院对罪犯吴智信本次减刑无异议。 经审理查明，罪犯吴智信自在服刑期间，能认罪悔罪；认真遵守法律法规及监规，接受教育改造；积极参加思想、文化、职业技术教育；积极参加劳动，努力完成劳动任务。获得2014年度监狱劳动能手（已折算成奖励分），截至2015年5月止，累计奖励分85.33分。上述事实有生效裁判文书、执行通知书、罪犯减刑审核表、改造鉴定表、奖惩审批表、计分考核手册等证据证实。 另查明，该犯至今未缴纳原判罚金190000元。 本院认为，罪犯吴智信在刑罚执行期间，能认罪服法，具备了法定的确有悔改表现的事实，符合减刑的法定条件。执行机关所提请减刑的建议，符合法律规定，本院根据该犯未履行原判财产刑的事实及其改造表现事实酌情予以减刑。'"
      ]
     },
     "execution_count": 2,
     "metadata": {},
     "output_type": "execute_result"
    }
   ],
   "source": [
    "import pandas as pd\n",
    "\n",
    "data = pd.read_csv('data/testA.csv')\n",
    "facts = data.fact.tolist()\n",
    "\n",
    "facts[0]"
   ]
  },
  {
   "cell_type": "markdown",
   "metadata": {},
   "source": [
    "### Summarize"
   ]
  },
  {
   "cell_type": "code",
   "execution_count": 3,
   "metadata": {},
   "outputs": [],
   "source": [
    "def summarize(text, output_length=510):\n",
    "    if len(text) < output_length:\n",
    "        return text\n",
    "    \n",
    "    min_len = 0x7fffffff\n",
    "    for i in range(10, 2, -1):\n",
    "        result = model(text, num_sentences=i)\n",
    "        if len(result) <= 1.1 * output_length:\n",
    "            return result\n",
    "        elif len(result) < min_len:\n",
    "            min_len = len(result)\n",
    "            min_result = result\n",
    "            \n",
    "    return min_result if 0.5 * output_length <= min_len <= output_length else text[-(output_length+1):-1]"
   ]
  },
  {
   "cell_type": "code",
   "execution_count": 4,
   "metadata": {},
   "outputs": [
    {
     "data": {
      "application/vnd.jupyter.widget-view+json": {
       "model_id": "9f38a78f924b46bfbc807abd31eeae6c",
       "version_major": 2,
       "version_minor": 0
      },
      "text/plain": [
       "  0%|          | 0/25001 [00:00<?, ?it/s]"
      ]
     },
     "metadata": {},
     "output_type": "display_data"
    },
    {
     "name": "stdout",
     "output_type": "stream",
     "text": [
      "huggingface/tokenizers: The current process just got forked, after parallelism has already been used. Disabling parallelism to avoid deadlocks...\n",
      "To disable this warning, you can either:\n",
      "\t- Avoid using `tokenizers` before the fork if possible\n",
      "\t- Explicitly set the environment variable TOKENIZERS_PARALLELISM=(true | false)\n"
     ]
    }
   ],
   "source": [
    "from tqdm.autonotebook import tqdm\n",
    "from warnings import simplefilter\n",
    "from sklearn.exceptions import ConvergenceWarning\n",
    "simplefilter(\"ignore\", category=ConvergenceWarning)\n",
    "\n",
    "summ_facts = []\n",
    "error_idx = []\n",
    "\n",
    "for i in tqdm(range(len(facts))):\n",
    "    try:\n",
    "        summ_facts.append(summarize(facts[i]))\n",
    "    except:\n",
    "        error_idx.append(i)\n",
    "        if len(facts[i]) > 510:\n",
    "            summ_facts.append(facts[i][-511:-1])\n",
    "        else:\n",
    "            summ_facts.append(facts[i])"
   ]
  },
  {
   "cell_type": "markdown",
   "metadata": {},
   "source": [
    "### Save to csv"
   ]
  },
  {
   "cell_type": "code",
   "execution_count": 5,
   "metadata": {},
   "outputs": [
    {
     "data": {
      "text/plain": [
       "count    25001.000000\n",
       "mean       450.615735\n",
       "std         68.388158\n",
       "min        166.000000\n",
       "25%        402.000000\n",
       "50%        459.000000\n",
       "75%        505.000000\n",
       "max        561.000000\n",
       "Name: summary, dtype: float64"
      ]
     },
     "execution_count": 5,
     "metadata": {},
     "output_type": "execute_result"
    }
   ],
   "source": [
    "data['summary'] = summ_facts\n",
    "\n",
    "data.summary.str.len().describe()"
   ]
  },
  {
   "cell_type": "code",
   "execution_count": 6,
   "metadata": {},
   "outputs": [],
   "source": [
    "data.to_csv('data/testA_bertsum.csv', index=False)"
   ]
  }
 ],
 "metadata": {
  "kernelspec": {
   "display_name": "Python 3.8.13 ('torch')",
   "language": "python",
   "name": "python3"
  },
  "language_info": {
   "codemirror_mode": {
    "name": "ipython",
    "version": 3
   },
   "file_extension": ".py",
   "mimetype": "text/x-python",
   "name": "python",
   "nbconvert_exporter": "python",
   "pygments_lexer": "ipython3",
   "version": "3.8.13"
  },
  "orig_nbformat": 4,
  "vscode": {
   "interpreter": {
    "hash": "f1ad28bcc00bbef288569d3f1a376da4d382e3330132777674284f995c8eb569"
   }
  }
 },
 "nbformat": 4,
 "nbformat_minor": 2
}
