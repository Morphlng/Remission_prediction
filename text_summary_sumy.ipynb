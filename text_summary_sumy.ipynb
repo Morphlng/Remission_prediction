{
 "cells": [
  {
   "cell_type": "code",
   "execution_count": 1,
   "metadata": {},
   "outputs": [],
   "source": [
    "# pip install sumy\n",
    "\n",
    "from sumy.nlp.tokenizers import Tokenizer\n",
    "from sumy.parsers.plaintext import PlaintextParser\n",
    "from sumy.summarizers.lex_rank import LexRankSummarizer as Summarizer\n",
    "from sumy.nlp.stemmers import Stemmer\n",
    "from sumy.utils import get_stop_words\n",
    "\n",
    "LANG = \"chinese\"\n",
    "tokenizer = Tokenizer(LANG)\n",
    "stemmer = Stemmer(LANG)\n",
    "summarizer = Summarizer(stemmer)\n",
    "summarizer.stop_words = get_stop_words(LANG)"
   ]
  },
  {
   "cell_type": "code",
   "execution_count": 2,
   "metadata": {},
   "outputs": [],
   "source": [
    "def get_summary(text, max_length=510):\n",
    "    if len(text) < max_length:\n",
    "        return text\n",
    "\n",
    "    parser = PlaintextParser.from_string(text, tokenizer)\n",
    "    min_length = 0x7fffffff\n",
    "    for i in range(len(parser.document.sentences), 4, -1):\n",
    "        sentences = summarizer(parser.document, i)\n",
    "        summary = ' '.join([str(sentence) for sentence in sentences])\n",
    "        if len(summary) <= 1.1 * max_length:\n",
    "            return summary\n",
    "        elif len(summary) < min_length:\n",
    "            min_length = len(summary)\n",
    "            min_summary = summary\n",
    "\n",
    "    return min_summary if 0.5 * max_length <= min_length <= max_length else text[-(max_length+1):-1]"
   ]
  },
  {
   "cell_type": "code",
   "execution_count": 3,
   "metadata": {},
   "outputs": [],
   "source": [
    "import pandas as pd\n",
    "\n",
    "data = pd.read_csv('data/testA.csv')\n",
    "facts = data.fact.tolist()"
   ]
  },
  {
   "cell_type": "code",
   "execution_count": 4,
   "metadata": {},
   "outputs": [
    {
     "name": "stderr",
     "output_type": "stream",
     "text": [
      "/tmp/ipykernel_281293/4046073384.py:1: TqdmExperimentalWarning: Using `tqdm.autonotebook.tqdm` in notebook mode. Use `tqdm.tqdm` instead to force console mode (e.g. in jupyter console)\n",
      "  from tqdm.autonotebook import tqdm\n"
     ]
    },
    {
     "data": {
      "application/vnd.jupyter.widget-view+json": {
       "model_id": "780371e4aee9483a9c7c2ff02c231751",
       "version_major": 2,
       "version_minor": 0
      },
      "text/plain": [
       "  0%|          | 0/25001 [00:00<?, ?it/s]"
      ]
     },
     "metadata": {},
     "output_type": "display_data"
    },
    {
     "name": "stderr",
     "output_type": "stream",
     "text": [
      "Building prefix dict from the default dictionary ...\n",
      "Loading model from cache /tmp/jieba.cache\n",
      "Loading model cost 0.393 seconds.\n",
      "Prefix dict has been built successfully.\n"
     ]
    }
   ],
   "source": [
    "from tqdm.autonotebook import tqdm\n",
    "\n",
    "summ_facts = []\n",
    "\n",
    "for i in tqdm(range(len(facts))):\n",
    "    summ_facts.append(get_summary(facts[i]))"
   ]
  },
  {
   "cell_type": "markdown",
   "metadata": {},
   "source": [
    "### Save to csv"
   ]
  },
  {
   "cell_type": "code",
   "execution_count": 5,
   "metadata": {},
   "outputs": [
    {
     "data": {
      "text/plain": [
       "count    25001.000000\n",
       "mean       484.982081\n",
       "std         68.692515\n",
       "min        177.000000\n",
       "25%        445.000000\n",
       "50%        508.000000\n",
       "75%        539.000000\n",
       "max        561.000000\n",
       "Name: summary, dtype: float64"
      ]
     },
     "execution_count": 5,
     "metadata": {},
     "output_type": "execute_result"
    }
   ],
   "source": [
    "data['summary'] = summ_facts\n",
    "\n",
    "data.summary.str.len().describe()"
   ]
  },
  {
   "cell_type": "code",
   "execution_count": 6,
   "metadata": {},
   "outputs": [],
   "source": [
    "data.to_csv('data/testA_summary.csv', index=False)"
   ]
  }
 ],
 "metadata": {
  "kernelspec": {
   "display_name": "Python 3.8.13 ('torch')",
   "language": "python",
   "name": "python3"
  },
  "language_info": {
   "codemirror_mode": {
    "name": "ipython",
    "version": 3
   },
   "file_extension": ".py",
   "mimetype": "text/x-python",
   "name": "python",
   "nbconvert_exporter": "python",
   "pygments_lexer": "ipython3",
   "version": "3.8.13"
  },
  "orig_nbformat": 4,
  "vscode": {
   "interpreter": {
    "hash": "f1ad28bcc00bbef288569d3f1a376da4d382e3330132777674284f995c8eb569"
   }
  }
 },
 "nbformat": 4,
 "nbformat_minor": 2
}
