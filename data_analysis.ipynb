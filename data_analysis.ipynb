{
 "cells": [
  {
   "cell_type": "markdown",
   "metadata": {},
   "source": [
    "## Data Analysis"
   ]
  },
  {
   "cell_type": "code",
   "execution_count": 1,
   "metadata": {},
   "outputs": [
    {
     "data": {
      "text/html": [
       "<div>\n",
       "<style scoped>\n",
       "    .dataframe tbody tr th:only-of-type {\n",
       "        vertical-align: middle;\n",
       "    }\n",
       "\n",
       "    .dataframe tbody tr th {\n",
       "        vertical-align: top;\n",
       "    }\n",
       "\n",
       "    .dataframe thead th {\n",
       "        text-align: right;\n",
       "    }\n",
       "</style>\n",
       "<table border=\"1\" class=\"dataframe\">\n",
       "  <thead>\n",
       "    <tr style=\"text-align: right;\">\n",
       "      <th></th>\n",
       "      <th>id</th>\n",
       "      <th>fact</th>\n",
       "      <th>label</th>\n",
       "    </tr>\n",
       "  </thead>\n",
       "  <tbody>\n",
       "    <tr>\n",
       "      <th>0</th>\n",
       "      <td>id_0</td>\n",
       "      <td>罪犯陈中盛，男，1954年xx月xx日出生，汉族，湖南省永兴县人，文盲，现在河南省新郑监狱服...</td>\n",
       "      <td>12</td>\n",
       "    </tr>\n",
       "    <tr>\n",
       "      <th>1</th>\n",
       "      <td>id_1</td>\n",
       "      <td>罪犯王中国，男，1982年xx月xx日生，汉族，吉林省长春市宽城区人，初中毕业，现在吉林省长...</td>\n",
       "      <td>13</td>\n",
       "    </tr>\n",
       "    <tr>\n",
       "      <th>2</th>\n",
       "      <td>id_2</td>\n",
       "      <td>罪犯张仁奇，现在宁夏回族自治区银川监狱服刑，以被告人张仁奇犯信用卡诈骗罪，判处有期徒刑刑期六...</td>\n",
       "      <td>8</td>\n",
       "    </tr>\n",
       "    <tr>\n",
       "      <th>3</th>\n",
       "      <td>id_3</td>\n",
       "      <td>罪犯吴晨，男，1988年xx月xx日出生，瑶族，广西巴马县人，初中文化，原住广西巴马县巴马镇...</td>\n",
       "      <td>7</td>\n",
       "    </tr>\n",
       "    <tr>\n",
       "      <th>4</th>\n",
       "      <td>id_4</td>\n",
       "      <td>罪犯夏宏，女，1980年xx月xx日出生，汉族，初中文化，湖南省邵阳市大祥区人，住湖南省邵阳...</td>\n",
       "      <td>6</td>\n",
       "    </tr>\n",
       "  </tbody>\n",
       "</table>\n",
       "</div>"
      ],
      "text/plain": [
       "     id                                               fact  label\n",
       "0  id_0  罪犯陈中盛，男，1954年xx月xx日出生，汉族，湖南省永兴县人，文盲，现在河南省新郑监狱服...     12\n",
       "1  id_1  罪犯王中国，男，1982年xx月xx日生，汉族，吉林省长春市宽城区人，初中毕业，现在吉林省长...     13\n",
       "2  id_2  罪犯张仁奇，现在宁夏回族自治区银川监狱服刑，以被告人张仁奇犯信用卡诈骗罪，判处有期徒刑刑期六...      8\n",
       "3  id_3  罪犯吴晨，男，1988年xx月xx日出生，瑶族，广西巴马县人，初中文化，原住广西巴马县巴马镇...      7\n",
       "4  id_4  罪犯夏宏，女，1980年xx月xx日出生，汉族，初中文化，湖南省邵阳市大祥区人，住湖南省邵阳...      6"
      ]
     },
     "execution_count": 1,
     "metadata": {},
     "output_type": "execute_result"
    }
   ],
   "source": [
    "import pandas as pd\n",
    "\n",
    "data = pd.read_csv('data/train.csv')\n",
    "\n",
    "data.head()"
   ]
  },
  {
   "cell_type": "markdown",
   "metadata": {},
   "source": [
    "### Label distribution"
   ]
  },
  {
   "cell_type": "code",
   "execution_count": 2,
   "metadata": {},
   "outputs": [
    {
     "data": {
      "text/plain": [
       "<AxesSubplot: >"
      ]
     },
     "execution_count": 2,
     "metadata": {},
     "output_type": "execute_result"
    },
    {
     "data": {
      "image/png": "[encoded data removed]",
      "text/plain": [
       "<Figure size 640x480 with 1 Axes>"
      ]
     },
     "metadata": {},
     "output_type": "display_data"
    }
   ],
   "source": [
    "data['label'].value_counts().sort_index().plot(kind=\"bar\")"
   ]
  },
  {
   "cell_type": "markdown",
   "metadata": {},
   "source": [
    "### Fact text description"
   ]
  },
  {
   "cell_type": "code",
   "execution_count": 3,
   "metadata": {},
   "outputs": [
    {
     "name": "stdout",
     "output_type": "stream",
     "text": [
      "Average text length: 593.7158656826864\n"
     ]
    },
    {
     "data": {
      "text/plain": [
       "<AxesSubplot: >"
      ]
     },
     "execution_count": 3,
     "metadata": {},
     "output_type": "execute_result"
    },
    {
     "data": {
      "image/png": "[encoded data removed]",
      "text/plain": [
       "<Figure size 640x480 with 1 Axes>"
      ]
     },
     "metadata": {},
     "output_type": "display_data"
    }
   ],
   "source": [
    "print(\"Average text length:\", data['fact'].str.len().mean())\n",
    "\n",
    "# pie chart of text length\n",
    "data['fact'].str.len().hist()"
   ]
  },
  {
   "cell_type": "markdown",
   "metadata": {},
   "source": [
    "### Text compress"
   ]
  },
  {
   "cell_type": "code",
   "execution_count": 4,
   "metadata": {},
   "outputs": [],
   "source": [
    "def compress_text(text: str, target_size: int = 510):\n",
    "    # remove empty spaces\n",
    "    text = text.replace(' ', '')\n",
    "    text = text.replace('xx月xx日', '')\n",
    "    \n",
    "    if len(text) <= target_size:\n",
    "        return text\n",
    "\n",
    "    # split text into sentences\n",
    "    sentences = text.split('。')\n",
    "\n",
    "    # always keep the first and last sentence\n",
    "    kept_sentences = [sentences[0], sentences.pop()]\n",
    "\n",
    "    # add sentence from the back until the target size is reached\n",
    "    while len('。'.join(kept_sentences)) <= target_size:\n",
    "        kept_sentences.insert(1, sentences.pop())\n",
    "\n",
    "    return '。'.join(kept_sentences)\n"
   ]
  },
  {
   "cell_type": "code",
   "execution_count": 5,
   "metadata": {},
   "outputs": [
    {
     "name": "stdout",
     "output_type": "stream",
     "text": [
      "罪犯陈中盛，男，1954年xx月xx日出生，汉族，湖南省永兴县人，文盲，现在河南省新郑监狱服刑，认定陈中盛犯盗窃罪，判处有期徒刑十三年，剥夺政治权利二年，并处罚金5万元。刑期自2009年xx月xx日起至2022年xx月xx日止。宣判后，陈中盛等提出上诉。河南省高级人民法院于2011年xx月xx日作出（2011）豫法刑二终字第61号刑事裁定，驳回上诉，维持原判。判决生效后，于2011年xx月xx日交付河南省新郑监狱执行刑罚。该狱以罪犯陈中盛入狱以来确有悔改表现，经过监狱集体评议、公示，检察机关监督等程序提出减刑建议，报送本院。本院立案后依法组成合议庭审理了本案，现已审理终结。 经审理查明，原判认定，2009年xx月xx日，陈中盛伙同他人预谋盗窃长葛市某公司。9月7至xx月xx日，陈中盛等三人在旅店等候接应，其他六人驾车至该公司厂房剪断窗户钢筋，窃取银焊条322.2千克（价值316520元）。陈中盛系主犯。 罪犯陈中盛服刑期间能够认罪服法；认真遵守监规，接受教育改造；积极参加政治、文化、技术学习；积极参加劳动，完成劳动任务。获得记功1次，获得表扬6次。2011年下半年至2014年下半年，半年改造评审鉴定结果依次为一般、良好、一般、良好、良好、良好、良好。河南省新郑监狱经过分监区集体评议、监区长办公会审核后公示、刑罚执行科审查、监狱提请减刑假释评审委员会评审后公示、监狱长办公会决定，并经过驻狱检察室监督评审委员会评审等程序对该犯提出减刑建议。 上述事实有执行机关提供的生效裁判、罪犯改造评审鉴定表、罪犯奖惩审批表、罪犯减刑审核表、检察机关监督评审材料等证据在案佐证。 本院认为，罪犯陈中盛入狱服刑期间确有悔改表现，符合减刑的条件，可予减刑。 727\n"
     ]
    }
   ],
   "source": [
    "origin_text = data.fact[0]\n",
    "print(origin_text, len(origin_text))"
   ]
  },
  {
   "cell_type": "code",
   "execution_count": 6,
   "metadata": {},
   "outputs": [
    {
     "name": "stdout",
     "output_type": "stream",
     "text": [
      "罪犯陈中盛，男，1954年出生，汉族，湖南省永兴县人，文盲，现在河南省新郑监狱服刑，认定陈中盛犯盗窃罪，判处有期徒刑十三年，剥夺政治权利二年，并处罚金5万元。本院立案后依法组成合议庭审理了本案，现已审理终结。经审理查明，原判认定，2009年，陈中盛伙同他人预谋盗窃长葛市某公司。9月7至，陈中盛等三人在旅店等候接应，其他六人驾车至该公司厂房剪断窗户钢筋，窃取银焊条322.2千克（价值316520元）。陈中盛系主犯。罪犯陈中盛服刑期间能够认罪服法；认真遵守监规，接受教育改造；积极参加政治、文化、技术学习；积极参加劳动，完成劳动任务。获得记功1次，获得表扬6次。2011年下半年至2014年下半年，半年改造评审鉴定结果依次为一般、良好、一般、良好、良好、良好、良好。河南省新郑监狱经过分监区集体评议、监区长办公会审核后公示、刑罚执行科审查、监狱提请减刑假释评审委员会评审后公示、监狱长办公会决定，并经过驻狱检察室监督评审委员会评审等程序对该犯提出减刑建议。上述事实有执行机关提供的生效裁判、罪犯改造评审鉴定表、罪犯奖惩审批表、罪犯减刑审核表、检察机关监督评审材料等证据在案佐证。本院认为，罪犯陈中盛入狱服刑期间确有悔改表现，符合减刑的条件，可予减刑。 525\n"
     ]
    }
   ],
   "source": [
    "comp_text = compress_text(data.fact[0])\n",
    "print(comp_text, len(comp_text))"
   ]
  },
  {
   "cell_type": "markdown",
   "metadata": {},
   "source": [
    "### Data analysis after compress"
   ]
  },
  {
   "cell_type": "code",
   "execution_count": 7,
   "metadata": {},
   "outputs": [
    {
     "data": {
      "text/plain": [
       "<AxesSubplot: >"
      ]
     },
     "execution_count": 7,
     "metadata": {},
     "output_type": "execute_result"
    },
    {
     "data": {
      "image/png": "[encoded data removed]",
      "text/plain": [
       "<Figure size 640x480 with 1 Axes>"
      ]
     },
     "metadata": {},
     "output_type": "display_data"
    }
   ],
   "source": [
    "data['compressed_fact'] = [compress_text(t) for t in data['fact'].tolist()]\n",
    "\n",
    "data['compressed_fact'].str.len().hist()"
   ]
  }
 ],
 "metadata": {
  "kernelspec": {
   "display_name": "Python 3.9.12 ('base')",
   "language": "python",
   "name": "python3"
  },
  "language_info": {
   "codemirror_mode": {
    "name": "ipython",
    "version": 3
   },
   "file_extension": ".py",
   "mimetype": "text/x-python",
   "name": "python",
   "nbconvert_exporter": "python",
   "pygments_lexer": "ipython3",
   "version": "3.9.15"
  },
  "orig_nbformat": 4,
  "vscode": {
   "interpreter": {
    "hash": "e24ed696bb0d6c4d3884938496f3221682044c4109650bfeb5b122dc027742e0"
   }
  }
 },
 "nbformat": 4,
 "nbformat_minor": 2
}
